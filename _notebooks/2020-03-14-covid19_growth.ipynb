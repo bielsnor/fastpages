{
 "cells": [
  {
   "cell_type": "markdown",
   "metadata": {
    "papermill": {
     "duration": 0.011269,
     "end_time": "2020-03-27T18:08:47.000208",
     "exception": false,
     "start_time": "2020-03-27T18:08:46.988939",
     "status": "completed"
    },
    "tags": []
   },
   "source": [
    "# Changes In The Daily Growth Rate\n",
    "> Changes in the daily growth rate for select countries.\n",
    "\n"
   ]
  },
  {
   "cell_type": "code",
   "execution_count": null,
   "metadata": {
    "papermill": {
     "duration": 0.017578,
     "end_time": "2020-03-27T18:08:47.025785",
     "exception": false,
     "start_time": "2020-03-27T18:08:47.008207",
     "status": "completed"
    },
    "tags": []
   },
   "outputs": [],
   "source": [
    "#hide\n",
    "from pathlib import Path\n",
    "\n",
    "loadpy = Path('load_covid_data.py')\n",
    "if not loadpy.exists():\n",
    "    ! wget https://raw.githubusercontent.com/github/covid19-dashboard/master/_notebooks/load_covid_data.py"
   ]
  },
  {
   "cell_type": "code",
   "execution_count": null,
   "metadata": {
    "papermill": {
     "duration": 0.845958,
     "end_time": "2020-03-27T18:08:47.878869",
     "exception": false,
     "start_time": "2020-03-27T18:08:47.032911",
     "status": "completed"
    },
    "tags": []
   },
   "outputs": [],
   "source": [
    "#hide\n",
    "%matplotlib inline\n",
    "import numpy as np\n",
    "import matplotlib.pyplot as plt\n",
    "import matplotlib\n",
    "import pandas as pd\n",
    "import seaborn as sns\n",
    "\n",
    "import load_covid_data\n",
    "\n",
    "sns.set_context('talk')\n",
    "plt.style.use('seaborn-whitegrid')"
   ]
  },
  {
   "cell_type": "code",
   "execution_count": null,
   "metadata": {
    "papermill": {
     "duration": 1.664344,
     "end_time": "2020-03-27T18:08:49.550695",
     "exception": false,
     "start_time": "2020-03-27T18:08:47.886351",
     "status": "completed"
    },
    "tags": []
   },
   "outputs": [],
   "source": [
    "#hide\n",
    "df = load_covid_data.load_data(drop_states=True)\n",
    "    \n",
    "annotate_kwargs = dict(\n",
    "    s='Based on COVID Data Repository by Johns Hopkins CSSE ({})\\nBy Thomas Wiecki'.format(df.index.max().strftime('%B %d, %Y')), \n",
    "    xy=(0.05, 0.01), xycoords='figure fraction', fontsize=10)"
   ]
  },
  {
   "cell_type": "code",
   "execution_count": null,
   "metadata": {
    "papermill": {
     "duration": 0.01971,
     "end_time": "2020-03-27T18:08:49.578578",
     "exception": false,
     "start_time": "2020-03-27T18:08:49.558868",
     "status": "completed"
    },
    "scrolled": true,
    "tags": []
   },
   "outputs": [],
   "source": [
    "#hide\n",
    "# Country names seem to change quite a bit\n",
    "df.country.unique()"
   ]
  },
  {
   "cell_type": "code",
   "execution_count": null,
   "metadata": {
    "papermill": {
     "duration": 0.016069,
     "end_time": "2020-03-27T18:08:49.602296",
     "exception": false,
     "start_time": "2020-03-27T18:08:49.586227",
     "status": "completed"
    },
    "tags": []
   },
   "outputs": [],
   "source": [
    "#hide\n",
    "european_countries = ['Italy', 'Germany', 'France (total)', 'Spain', 'United Kingdom (total)', \n",
    "                      'Iran']\n",
    "large_engl_countries = ['US', 'Canada (total)', 'Australia (total)']\n",
    "asian_countries = ['Singapore', 'Japan', 'Korea, South', 'Hong Kong']\n",
    "south_american_countries = ['Argentina', 'Brazil', 'Colombia', 'Chile']\n",
    "\n",
    "country_groups = [european_countries, large_engl_countries, asian_countries, south_american_countries]\n",
    "line_styles = ['-', ':', '--', '-.']"
   ]
  },
  {
   "cell_type": "code",
   "execution_count": null,
   "metadata": {
    "papermill": {
     "duration": 0.845751,
     "end_time": "2020-03-27T18:08:50.455461",
     "exception": false,
     "start_time": "2020-03-27T18:08:49.609710",
     "status": "completed"
    },
    "scrolled": false,
    "tags": []
   },
   "outputs": [],
   "source": [
    "#hide\n",
    "\n",
    "def plot_countries(df, countries, min_confirmed=100, ls='-', col='confirmed'):\n",
    "    for country in countries:\n",
    "        df_country = df.loc[(df.country == country) & (df.confirmed >= min_confirmed)]\n",
    "        if len(df_country) == 0:\n",
    "            continue\n",
    "        df_country.reset_index()[col].plot(label=country, ls=ls)\n",
    "        \n",
    "sns.set_palette(sns.hls_palette(8, l=.45, s=.8)) # 8 countries max\n",
    "fig, ax = plt.subplots(figsize=(12, 8))\n",
    "\n",
    "for countries, ls in zip(country_groups, line_styles):\n",
    "    plot_countries(df, countries, ls=ls)\n",
    "\n",
    "x = np.linspace(0, plt.xlim()[1] - 1)\n",
    "ax.plot(x, 100 * (1.33) ** x, ls='--', color='k', label='33% daily growth')\n",
    "\n",
    "ax.set(yscale='log',\n",
    "       title='Exponential growth of COVID-19 across countries',\n",
    "       xlabel='Days from first 100 confirmed cases',\n",
    "       ylabel='Confirmed cases (log scale)')\n",
    "ax.get_yaxis().set_major_formatter(matplotlib.ticker.ScalarFormatter())\n",
    "ax.legend(bbox_to_anchor=(1.0, 1.0))\n",
    "ax.annotate(**annotate_kwargs)\n",
    "sns.despine();"
   ]
  },
  {
   "cell_type": "code",
   "execution_count": null,
   "metadata": {
    "papermill": {
     "duration": 0.578151,
     "end_time": "2020-03-27T18:08:51.044943",
     "exception": false,
     "start_time": "2020-03-27T18:08:50.466792",
     "status": "completed"
    },
    "tags": []
   },
   "outputs": [],
   "source": [
    "#hide\n",
    "fig, ax = plt.subplots(figsize=(12, 8))\n",
    "\n",
    "for countries, ls in zip(country_groups, line_styles):\n",
    "    plot_countries(df, countries, ls=ls)\n",
    "\n",
    "x = np.linspace(0, plt.xlim()[1] - 1)\n",
    "ax.plot(x, 100 * (1.33) ** x, ls='--', color='k', label='33% daily growth')\n",
    "\n",
    "ax.set(title='Exponential growth of COVID-19 across countries',\n",
    "       xlabel='Days from first 100 confirmed cases',\n",
    "       ylabel='Confirmed cases', ylim=(0, 30000))\n",
    "ax.legend(bbox_to_anchor=(1.0, 1.0))\n",
    "ax.annotate(**annotate_kwargs)\n",
    "sns.despine();"
   ]
  },
  {
   "cell_type": "code",
   "execution_count": null,
   "metadata": {
    "papermill": {
     "duration": 0.783353,
     "end_time": "2020-03-27T18:08:51.843595",
     "exception": false,
     "start_time": "2020-03-27T18:08:51.060242",
     "status": "completed"
    },
    "tags": []
   },
   "outputs": [],
   "source": [
    "#hide_input\n",
    "plt.rcParams['axes.titlesize'] = 24\n",
    "smooth_days = 4\n",
    "fig, ax = plt.subplots(figsize=(14, 8))\n",
    "df['pct_change'] = (df\n",
    "                    .groupby('country')\n",
    "                    .confirmed\n",
    "                    .pct_change()\n",
    "                    .rolling(smooth_days)\n",
    "                    .mean()\n",
    ")\n",
    "\n",
    "for countries, ls in zip(country_groups, line_styles):\n",
    "    (df.set_index('country')\n",
    "       .loc[countries]\n",
    "       .loc[lambda x: x.confirmed > 100]\n",
    "       .reset_index()\n",
    "       .set_index('days_since_100')\n",
    "       .groupby('country', sort=False)['pct_change']\n",
    "       .plot(ls=ls)\n",
    "    )\n",
    "\n",
    "ax.set(ylim=(0, 1),\n",
    "       xlim=(0, 20),\n",
    "       title='Are we seeing changes in daily growth rate?',\n",
    "       xlabel='Days from first 100 confirmed cases',\n",
    "       ylabel='Daily percent change (smoothed over {} days)'.format(smooth_days),\n",
    ")\n",
    "ax.axhline(.33, ls='--', color='k')\n",
    "ax.get_yaxis().set_major_formatter(matplotlib.ticker.ScalarFormatter())\n",
    "ax.legend(bbox_to_anchor=(1.0, .155))\n",
    "sns.despine()\n",
    "ax.annotate(**annotate_kwargs);\n",
    "\n",
    "# This creates a preview image for the blog post and home page\n",
    "fig.savefig('../images/covid-growth.png')"
   ]
  },
  {
   "cell_type": "markdown",
   "metadata": {
    "papermill": {
     "duration": 0.018889,
     "end_time": "2020-03-27T18:08:51.881944",
     "exception": false,
     "start_time": "2020-03-27T18:08:51.863055",
     "status": "completed"
    },
    "tags": []
   },
   "source": [
    "## Appendix: German ICU Capacity"
   ]
  },
  {
   "cell_type": "code",
   "execution_count": null,
   "metadata": {
    "papermill": {
     "duration": 0.552766,
     "end_time": "2020-03-27T18:08:52.453257",
     "exception": false,
     "start_time": "2020-03-27T18:08:51.900491",
     "status": "completed"
    },
    "tags": []
   },
   "outputs": [],
   "source": [
    "#hide_input\n",
    "sns.set_palette(sns.hls_palette(8, l=.45, s=.8)) # 8 countries max\n",
    "fig, ax = plt.subplots(figsize=(12, 8))\n",
    "p_crit = .05\n",
    "# 28000 ICU beds total, 80% occupied\n",
    "icu_germany = 28000\n",
    "icu_germany_free = .2\n",
    "\n",
    "df_tmp = df.loc[lambda x: (x.country == 'Germany') & (x.confirmed > 100)].critical_estimate\n",
    "df_tmp.plot(ax=ax)\n",
    "\n",
    "x = np.linspace(0, 30, 30)\n",
    "pd.Series(index=pd.date_range(df_tmp.index[0], periods=30),\n",
    "          data=100*p_crit * (1.33) ** x).plot(ax=ax,ls='--', color='k', label='33% daily growth')\n",
    "\n",
    "ax.axhline(icu_germany, color='.3', ls='-.', label='Total ICU beds')\n",
    "ax.axhline(icu_germany * icu_germany_free, color='.5', ls=':', label='Free ICU beds')\n",
    "ax.set(yscale='log',\n",
    "       title='When will Germany run out of ICU beds?',\n",
    "       ylabel='Expected critical cases (assuming {:.0f}% critical)'.format(100 * p_crit),\n",
    ")\n",
    "ax.get_yaxis().set_major_formatter(matplotlib.ticker.ScalarFormatter())\n",
    "ax.legend(bbox_to_anchor=(1.0, 1.0))\n",
    "sns.despine()\n",
    "ax.annotate(**annotate_kwargs);"
   ]
  },
  {
   "cell_type": "markdown",
   "metadata": {
    "papermill": {
     "duration": 0.02126,
     "end_time": "2020-03-27T18:08:52.495710",
     "exception": false,
     "start_time": "2020-03-27T18:08:52.474450",
     "status": "completed"
    },
    "tags": []
   },
   "source": [
    "Updated daily by [GitHub Actions](https://github.com/features/actions)."
   ]
  },
  {
   "cell_type": "markdown",
   "metadata": {
    "papermill": {
     "duration": 0.020824,
     "end_time": "2020-03-27T18:08:52.537550",
     "exception": false,
     "start_time": "2020-03-27T18:08:52.516726",
     "status": "completed"
    },
    "tags": []
   },
   "source": [
    "This visualization was made by [Thomas Wiecki](https://twitter.com/twiecki)[^1].\n",
    "\n",
    "[^1]:  Data sourced from [\"2019 Novel Coronavirus COVID-19 (2019-nCoV) Data Repository by Johns Hopkins CSSE\"](https://systems.jhu.edu/research/public-health/ncov/) [GitHub repository](https://github.com/CSSEGISandData/COVID-19) and recreates the (pay-walled) plot in the [Financial Times]( https://www.ft.com/content/a26fbf7e-48f8-11ea-aeb3-955839e06441). This code is provided under the [BSD-3 License](https://github.com/twiecki/covid19/blob/master/LICENSE). Link to [original notebook](https://github.com/twiecki/covid19/blob/master/covid19_growth.ipynb)."
   ]
  },
  {
   "cell_type": "code",
   "execution_count": null,
   "metadata": {},
   "outputs": [],
   "source": []
  },
  {
   "cell_type": "code",
   "execution_count": null,
   "metadata": {},
   "outputs": [],
   "source": []
  }
 ],
 "metadata": {
  "kernelspec": {
   "display_name": "Python 3",
   "language": "python",
   "name": "python3"
  },
  "language_info": {
   "codemirror_mode": {
    "name": "ipython",
    "version": 3
   },
   "file_extension": ".py",
   "mimetype": "text/x-python",
   "name": "python",
   "nbconvert_exporter": "python",
   "pygments_lexer": "ipython3",
   "version": "3.7.6"
  },
  "papermill": {
   "duration": 6.399945,
   "end_time": "2020-03-27T18:08:52.563285",
   "environment_variables": {},
   "exception": null,
   "input_path": "2020-03-14-covid19_growth.ipynb",
   "output_path": "2020-03-14-covid19_growth.ipynb",
   "parameters": {},
   "start_time": "2020-03-27T18:08:46.163340",
   "version": "2.0.0"
  }
 },
 "nbformat": 4,
 "nbformat_minor": 2
}
